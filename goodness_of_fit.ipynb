{
 "cells": [
  {
   "cell_type": "code",
   "execution_count": 3,
   "metadata": {},
   "outputs": [],
   "source": [
    "import networkx as nx\n",
    "import matplotlib.pyplot as plt\n",
    "import numpy as np\n",
    "import statistics\n",
    "import collections\n",
    "\n",
    "import scipy.stats as stats"
   ]
  },
  {
   "cell_type": "code",
   "execution_count": 4,
   "metadata": {},
   "outputs": [],
   "source": [
    "def loadData(network):\n",
    "    if (network == \"Git\"):\n",
    "        G = nx.read_edgelist('./Data/musae_git_edges.csv', delimiter=',', nodetype=int)\n",
    "        return G\n",
    "    elif(network == \"Roads\"):\n",
    "        G = nx.read_edgelist('./Data/roadNet-PA.txt', nodetype=int)\n",
    "        return G\n",
    "    elif (network == \"Arxiv\"):\n",
    "        G = nx.read_edgelist('./Data/CA-GrQc.txt', nodetype=int)\n",
    "        return G\n",
    "    elif (network == \"Enron\"):\n",
    "        G = nx.read_edgelist('./Data/Email-Enron.txt', nodetype=int)\n",
    "        return G"
   ]
  },
  {
   "cell_type": "code",
   "execution_count": 5,
   "metadata": {},
   "outputs": [],
   "source": [
    "def plot_degree_dist(G):\n",
    "    degrees = [G.degree(n) for n in G.nodes()]\n",
    "    plt.hist(degrees, 100)\n",
    "    plt.set_xscale(range(0,100))\n",
    "    plt.show()\n"
   ]
  },
  {
   "cell_type": "code",
   "execution_count": 48,
   "metadata": {},
   "outputs": [],
   "source": [
    "def calculateKS(G):\n",
    "\n",
    "    degree_list = [G.degree[i] for i in G.nodes]\n",
    "    print(len(degree_list))\n",
    "    print(np.random.poisson(np.mean(degree_list), len(degree_list)))\n",
    "\n",
    "    print(stats.kstest(degree_list, np.random.poisson(np.mean(degree_list), len(degree_list))))\n"
   ]
  },
  {
   "cell_type": "code",
   "execution_count": 49,
   "metadata": {},
   "outputs": [
    {
     "ename": "TypeError",
     "evalue": "calculateKS() missing 1 required positional argument: 'network'",
     "output_type": "error",
     "traceback": [
      "\u001b[0;31m---------------------------------------------------------------------------\u001b[0m",
      "\u001b[0;31mTypeError\u001b[0m                                 Traceback (most recent call last)",
      "\u001b[1;32m/home/mvansteenbergen/ComplexSystems/goodness_of_fit.ipynb Cell 5\u001b[0m line \u001b[0;36m2\n\u001b[1;32m      <a href='vscode-notebook-cell://wsl%2Bubuntu/home/mvansteenbergen/ComplexSystems/goodness_of_fit.ipynb#W4sdnNjb2RlLXJlbW90ZQ%3D%3D?line=0'>1</a>\u001b[0m \u001b[39mfor\u001b[39;00m i \u001b[39min\u001b[39;00m [\u001b[39m\"\u001b[39m\u001b[39mGit\u001b[39m\u001b[39m\"\u001b[39m, \u001b[39m\"\u001b[39m\u001b[39mRoads\u001b[39m\u001b[39m\"\u001b[39m, \u001b[39m\"\u001b[39m\u001b[39mArxiv\u001b[39m\u001b[39m\"\u001b[39m, \u001b[39m\"\u001b[39m\u001b[39mEnron\u001b[39m\u001b[39m\"\u001b[39m]:\n\u001b[0;32m----> <a href='vscode-notebook-cell://wsl%2Bubuntu/home/mvansteenbergen/ComplexSystems/goodness_of_fit.ipynb#W4sdnNjb2RlLXJlbW90ZQ%3D%3D?line=1'>2</a>\u001b[0m     calculateKS(loadData(i))\n",
      "\u001b[0;31mTypeError\u001b[0m: calculateKS() missing 1 required positional argument: 'network'"
     ]
    }
   ],
   "source": [
    "for i in [\"Git\", \"Roads\", \"Arxiv\", \"Enron\"]:\n",
    "    calculateKS(loadData(i))"
   ]
  },
  {
   "cell_type": "code",
   "execution_count": 21,
   "metadata": {},
   "outputs": [
    {
     "data": {
      "text/plain": [
       "array([18, 18, 17, ..., 24, 20, 12])"
      ]
     },
     "execution_count": 21,
     "metadata": {},
     "output_type": "execute_result"
    }
   ],
   "source": [
    "G = nx.read_edgelist('./Data/musae_git_edges.csv', delimiter=',', nodetype=int)\n",
    "degree_list = [G.degree[i] for i in G.nodes]\n",
    "np.random.poisson(np.mean(degree_list), len(degree_list))"
   ]
  }
 ],
 "metadata": {
  "kernelspec": {
   "display_name": "Python 3",
   "language": "python",
   "name": "python3"
  },
  "language_info": {
   "codemirror_mode": {
    "name": "ipython",
    "version": 3
   },
   "file_extension": ".py",
   "mimetype": "text/x-python",
   "name": "python",
   "nbconvert_exporter": "python",
   "pygments_lexer": "ipython3",
   "version": "3.10.12"
  }
 },
 "nbformat": 4,
 "nbformat_minor": 2
}
