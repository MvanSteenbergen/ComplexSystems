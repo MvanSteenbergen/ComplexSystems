{
 "cells": [
  {
   "cell_type": "code",
   "execution_count": 84,
   "metadata": {},
   "outputs": [],
   "source": [
    "import networkx as nx\n",
    "import matplotlib.pyplot as plt\n",
    "import numpy as np\n",
    "import statistics\n",
    "\n",
    "import scipy.stats as stats"
   ]
  },
  {
   "cell_type": "code",
   "execution_count": 126,
   "metadata": {},
   "outputs": [],
   "source": [
    "def loadData(network):\n",
    "    if (network == \"Git\"):\n",
    "        G = nx.read_edgelist('./Data/musae_git_edges.csv', delimiter=',', nodetype=int)\n",
    "        return G\n",
    "    elif(network == \"Roads\"):\n",
    "        G = nx.read_edgelist('./Data/roadNet-PA.txt', nodetype=int)\n",
    "        return G\n",
    "    elif (network == \"Arxiv\"):\n",
    "        G = nx.read_edgelist('./Data/CA-GrQc.txt', nodetype=int)\n",
    "        return G\n",
    "    elif (network == \"Enron\"):\n",
    "        G = nx.read_edgelist('./Data/Email-Enron.txt', nodetype=int)\n",
    "        return G"
   ]
  },
  {
   "cell_type": "code",
   "execution_count": 127,
   "metadata": {},
   "outputs": [],
   "source": [
    "def catch(G):\n",
    "    try:\n",
    "        return G.degree[i]\n",
    "    except:\n",
    "        return 0"
   ]
  },
  {
   "cell_type": "code",
   "execution_count": 128,
   "metadata": {},
   "outputs": [],
   "source": [
    "def calculateChiSquare(G, network):\n",
    "    chisquare_ts = 0\n",
    "\n",
    "    observed_data = [catch(G) for i in range(len(G.degree))]\n",
    "\n",
    "    print(len(observed_data))\n",
    "\n",
    "    expected_data = np.random.poisson(lam, len(G.degree))\n",
    "\n",
    "    for i in range(len(observed_data)): \n",
    "        chisquare_ts = chisquare_ts + (np.square(observed_data[i] - expected_data[i])) / expected_data[i] \n",
    "\n",
    "    print('For network', network, ':')  \n",
    "    print('The chi-square value determined by the formula is: ', chisquare_ts)\n",
    "    print('The critical value of the chi-square-test is: ', stats.chi2.ppf(1 - 0.05, df = len(G.degree) - 1)) \n",
    "\n",
    "    if chisquare_ts > stats.chi2.ppf(1 - 0.05, df = len(G.degree) - 1):\n",
    "        print('\\nThis means that the null hypothesis is rejected.')\n",
    "    else:\n",
    "        print('\\nThis means that the null hypothesis is not rejected.')"
   ]
  },
  {
   "cell_type": "code",
   "execution_count": 129,
   "metadata": {},
   "outputs": [
    {
     "name": "stdout",
     "output_type": "stream",
     "text": [
      "37700\n",
      "For network Git :\n",
      "The chi-square value determined by the formula is:  578294.0\n",
      "The critical value of the chi-square-test is:  38151.78952864063\n",
      "\n",
      "This means that the null hypothesis is rejected.\n",
      "1088092\n",
      "For network Roads :\n",
      "The chi-square value determined by the formula is:  16679793.0\n",
      "The critical value of the chi-square-test is:  1090518.606147361\n",
      "\n",
      "This means that the null hypothesis is rejected.\n",
      "5242\n",
      "For network Arxiv :\n",
      "The chi-square value determined by the formula is:  80597.0\n",
      "The critical value of the chi-square-test is:  5410.532149881732\n",
      "\n",
      "This means that the null hypothesis is rejected.\n",
      "36692\n",
      "For network Enron :\n",
      "The chi-square value determined by the formula is:  562654.0\n",
      "The critical value of the chi-square-test is:  37137.71037289395\n",
      "\n",
      "This means that the null hypothesis is rejected.\n"
     ]
    }
   ],
   "source": [
    "for i in [\"Git\", \"Roads\", \"Arxiv\", \"Enron\"]:\n",
    "    calculateChiSquare(loadData(i), i)"
   ]
  },
  {
   "cell_type": "code",
   "execution_count": 112,
   "metadata": {},
   "outputs": [],
   "source": [
    "G = nx.read_edgelist('./Data/roadNet-PA.txt', nodetype=int)"
   ]
  },
  {
   "cell_type": "code",
   "execution_count": 122,
   "metadata": {},
   "outputs": [],
   "source": [
    "observed_data = [catch(G) for i in range(len(G.degree))]\n"
   ]
  }
 ],
 "metadata": {
  "kernelspec": {
   "display_name": "Python 3",
   "language": "python",
   "name": "python3"
  },
  "language_info": {
   "codemirror_mode": {
    "name": "ipython",
    "version": 3
   },
   "file_extension": ".py",
   "mimetype": "text/x-python",
   "name": "python",
   "nbconvert_exporter": "python",
   "pygments_lexer": "ipython3",
   "version": "3.10.12"
  }
 },
 "nbformat": 4,
 "nbformat_minor": 2
}
